{
 "cells": [
  {
   "cell_type": "markdown",
   "metadata": {},
   "source": [
    "**Proposal:**\n",
    "For our Problem, We chose a very simple equation to look at, A perfectly elastic collision between two objects. While it seems much simpler than something like Orbit between planets, or sublimation, I wanted to delve deep into how computational physics changes the fundamental and most basic of Physical properties. Also, how computational Physics can help show data and graphs in a much more clean and accurate method than by hand.\n",
    "I really wanted to see how using Python warps our perception of these problems. While doing this I do think that Python complicates the actual variable computation, it makes up for with flexability and data representation that can be easy to fix and alter at a moments notice. Not only this but also how we can show data, which will be a large part of our presentation."
   ]
  },
  {
   "cell_type": "code",
   "execution_count": null,
   "metadata": {},
   "outputs": [],
   "source": [
    "# Here is a few lines of code that we will use to actually define our problem.\n",
    "# we already know by the conservation of momentum and kinetic energy our equations are\n",
    "# (m1 * v1_i) + (m2 * v2_i) = (m1 * v1_f) + (m2 * v2_f), and (1/2m1 * v1_i**2) + (1/2m2 * v2_i**2) = (1/2m1 * v1_f**2) + (1/2m2 * v2_f**2)\n",
    "import numpy as np\n",
    "import matplotlib.pyplot as plt\n",
    "import matplotlib.animation as animation\n",
    "def particle(point, mass, position, velocity):\n",
    "    point.mass = mass\n",
    "    point.position = np.array(position)\n",
    "    point.velocity = np.array(velocity)\n",
    "\n",
    "def collision(p1, p2, v1_i, v2_i, v1_f, v2_f ):\n",
    "    v1_f = ((p1.mass -p2.mass) * p1.velocity + 2*p2.mass * p2.velocity)/(p1.mass + p2.mass)\n",
    "    v2_f = ((p2.mass -p1.mass) * p2.velocity + 2*p1.mass * p1.velocity)/(p1.mass + p2.mass)\n",
    "    return v1_f, v2_f\n",
    "\n",
    "# we would do something like this to find the position for each point during the collision for the animation"
   ]
  },
  {
   "cell_type": "markdown",
   "metadata": {},
   "source": [
    "**Help:** While I couldnt find any direct help, like papers on the coding of such problems, i did find two papers that could help with understanding the data collecting and rationalizing the code we use, as well as a github with helpful examples and code working on the same physical property.\n",
    "https://www.webofscience.com/wos/woscc/full-record/WOS:000969679100031,\n",
    "https://www.webofscience.com/wos/woscc/full-record/WOS:000407444100001,\n",
    "and https://github.com/yoyoberenguer/Elastic-Collision.\n",
    "\n"
   ]
  },
  {
   "cell_type": "markdown",
   "metadata": {},
   "source": [
    "Mainly what I want to do in this final project is set a good ground work to build off of, for what computational physics can do to help us in the future. Not only in computing, data collecting or analyzing, But also with data manipulation, representation, and using code to help with actual problems. With how flexable Python is as a language, maybe this isnt the only way to compute this problem, maybe this is just one of many."
   ]
  },
  {
   "cell_type": "markdown",
   "metadata": {},
   "source": [
    "From this we could answer many questions in our computing space. One of which that I have has issues with is how we can use this same code to influence the way we think about other mechanics or electro-static problems. We already touched upon capacitence and loops, but what about farradays law? How would we code air resistance due to surface area od fethers, or non-uniform shapes. Light traveling, maybe even THeoretical Physics problems can be calculated. Possibilities are endless, I'm just hoping to rationalize the first step."
   ]
  },
  {
   "cell_type": "markdown",
   "metadata": {},
   "source": []
  }
 ],
 "metadata": {
  "kernelspec": {
   "display_name": "Python 3",
   "language": "python",
   "name": "python3"
  },
  "language_info": {
   "codemirror_mode": {
    "name": "ipython",
    "version": 3
   },
   "file_extension": ".py",
   "mimetype": "text/x-python",
   "name": "python",
   "nbconvert_exporter": "python",
   "pygments_lexer": "ipython3",
   "version": "3.12.1"
  }
 },
 "nbformat": 4,
 "nbformat_minor": 2
}
